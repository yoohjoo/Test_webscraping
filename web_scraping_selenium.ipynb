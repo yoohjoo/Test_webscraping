{
 "cells": [
  {
   "cell_type": "code",
   "execution_count": 1,
   "id": "5dd78837",
   "metadata": {},
   "outputs": [
    {
     "name": "stdout",
     "output_type": "stream",
     "text": [
      "Collecting selenium\n",
      "  Downloading selenium-4.16.0-py3-none-any.whl (10.0 MB)\n",
      "Collecting trio-websocket~=0.9\n",
      "  Downloading trio_websocket-0.11.1-py3-none-any.whl (17 kB)\n",
      "Collecting trio~=0.17\n",
      "  Downloading trio-0.24.0-py3-none-any.whl (460 kB)\n",
      "Requirement already satisfied: certifi>=2021.10.8 in c:\\anaconda\\lib\\site-packages (from selenium) (2021.10.8)\n",
      "Requirement already satisfied: urllib3[socks]<3,>=1.26 in c:\\anaconda\\lib\\site-packages (from selenium) (1.26.7)\n",
      "Collecting exceptiongroup\n",
      "  Downloading exceptiongroup-1.2.0-py3-none-any.whl (16 kB)\n",
      "Collecting sniffio>=1.3.0\n",
      "  Downloading sniffio-1.3.0-py3-none-any.whl (10 kB)\n",
      "Requirement already satisfied: idna in c:\\anaconda\\lib\\site-packages (from trio~=0.17->selenium) (3.2)\n",
      "Collecting outcome\n",
      "  Downloading outcome-1.3.0.post0-py2.py3-none-any.whl (10 kB)\n",
      "Requirement already satisfied: attrs>=20.1.0 in c:\\anaconda\\lib\\site-packages (from trio~=0.17->selenium) (21.2.0)\n",
      "Requirement already satisfied: sortedcontainers in c:\\anaconda\\lib\\site-packages (from trio~=0.17->selenium) (2.4.0)\n",
      "Requirement already satisfied: cffi>=1.14 in c:\\anaconda\\lib\\site-packages (from trio~=0.17->selenium) (1.14.6)\n",
      "Collecting wsproto>=0.14\n",
      "  Downloading wsproto-1.2.0-py3-none-any.whl (24 kB)\n",
      "Requirement already satisfied: PySocks!=1.5.7,<2.0,>=1.5.6 in c:\\anaconda\\lib\\site-packages (from urllib3[socks]<3,>=1.26->selenium) (1.7.1)\n",
      "Requirement already satisfied: pycparser in c:\\anaconda\\lib\\site-packages (from cffi>=1.14->trio~=0.17->selenium) (2.20)\n",
      "Collecting h11<1,>=0.9.0\n",
      "  Downloading h11-0.14.0-py3-none-any.whl (58 kB)\n",
      "Installing collected packages: sniffio, outcome, h11, exceptiongroup, wsproto, trio, trio-websocket, selenium\n",
      "  Attempting uninstall: sniffio"
     ]
    },
    {
     "name": "stderr",
     "output_type": "stream",
     "text": [
      "WARNING: You are using pip version 21.3.1; however, version 23.3.2 is available.\n",
      "You should consider upgrading via the 'C:\\Anaconda\\python.exe -m pip install --upgrade pip' command.\n"
     ]
    },
    {
     "name": "stdout",
     "output_type": "stream",
     "text": [
      "\n",
      "    Found existing installation: sniffio 1.2.0\n",
      "    Uninstalling sniffio-1.2.0:\n",
      "      Successfully uninstalled sniffio-1.2.0\n",
      "Successfully installed exceptiongroup-1.2.0 h11-0.14.0 outcome-1.3.0.post0 selenium-4.16.0 sniffio-1.3.0 trio-0.24.0 trio-websocket-0.11.1 wsproto-1.2.0\n"
     ]
    }
   ],
   "source": [
    "!pip install selenium"
   ]
  },
  {
   "cell_type": "code",
   "execution_count": 19,
   "id": "02f4d149",
   "metadata": {},
   "outputs": [],
   "source": [
    "from selenium import webdriver\n",
    "from selenium.webdriver.chrome.options import Options\n",
    "from selenium.webdriver.common.by import By\n",
    "from selenium.webdriver.common.keys import Keys\n",
    "\n",
    "# 브라우저 꺼짐 방지 옵션\n",
    "chrome_options = Options()\n",
    "chrome_options.add_experimental_option(\"detach\", True)\n",
    "\n",
    "# 크롬 드라이버 생성\n",
    "driver = webdriver.Chrome(options=chrome_options)\n",
    "\n",
    "# 페이지 로딩이 완료될 때 까지 기다리는 코드\n",
    "driver.implicitly_wait(3)\n",
    "\n",
    "# 사이트 접속하기\n",
    "driver.get(url='https://www.coffeebeankorea.com/store/store.asp')\n"
   ]
  },
  {
   "cell_type": "code",
   "execution_count": 23,
   "id": "7322d822",
   "metadata": {},
   "outputs": [
    {
     "name": "stdout",
     "output_type": "stream",
     "text": [
      "CoffeeBean store crawling >>>>>>>>>>>>>>>>>>>>>>>>>>\n",
      "차병원점\n",
      "강남대로점\n"
     ]
    }
   ],
   "source": [
    "#[CODE 1]\n",
    "def CoffeeBean_store(result):     \n",
    "    \n",
    "\n",
    "             \n",
    "    for i in range(1, 10):  #매장 수 만큼 반복\n",
    "        \n",
    "        driver.get(url='https://www.coffeebeankorea.com/store/store.asp')\n",
    "\n",
    "        time.sleep(1)  #웹페이지 연결할 동안 1초 대기\n",
    "        try:\n",
    "            driver.execute_script(\"storePop2(%d)\" %i)\n",
    "            time.sleep(1) #스크립트 실행 할 동안 1초 대기\n",
    "            html = driver.page_source\n",
    "            soupCB = BeautifulSoup(html, 'html.parser')\n",
    "            \n",
    "            store_name_h2 = soupCB.select(\"div.store_txt > h2\")\n",
    "            \n",
    "            store_name = store_name_h2[0].string\n",
    "            \n",
    "            print(store_name)  #매장 이름 출력하기\n",
    "            \n",
    "            store_info = soupCB.select(\"div.store_txt > table.store_table > tbody > tr > td\")\n",
    "            \n",
    "            store_address_list = list(store_info[2])\n",
    "            \n",
    "            store_address = store_address_list[0]\n",
    "            \n",
    "            store_phone = store_info[3].string\n",
    "            \n",
    "            result.append([store_name]+[store_address]+[store_phone])\n",
    "            \n",
    "        except:\n",
    "            continue \n",
    "    return\n",
    "\n",
    "#[CODE 0]\n",
    "def main():\n",
    "    result = []\n",
    "    print('CoffeeBean store crawling >>>>>>>>>>>>>>>>>>>>>>>>>>')\n",
    "    CoffeeBean_store(result)  #[CODE 1]\n",
    "    \n",
    "    CB_tbl = pd.DataFrame(result, columns=('store', 'address','phone'))\n",
    "    CB_tbl.to_csv('./CoffeeBean.csv', encoding='UTF-8', mode='w', index=True)\n",
    "\n",
    "if __name__ == '__main__':\n",
    "     main()\n"
   ]
  }
 ],
 "metadata": {
  "kernelspec": {
   "display_name": "Python 3 (ipykernel)",
   "language": "python",
   "name": "python3"
  },
  "language_info": {
   "codemirror_mode": {
    "name": "ipython",
    "version": 3
   },
   "file_extension": ".py",
   "mimetype": "text/x-python",
   "name": "python",
   "nbconvert_exporter": "python",
   "pygments_lexer": "ipython3",
   "version": "3.9.7"
  }
 },
 "nbformat": 4,
 "nbformat_minor": 5
}
