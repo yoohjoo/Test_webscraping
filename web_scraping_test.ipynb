{
 "cells": [
  {
   "cell_type": "code",
   "execution_count": 2,
   "id": "58541911",
   "metadata": {},
   "outputs": [
    {
     "name": "stdout",
     "output_type": "stream",
     "text": [
      "codo***\n",
      "outb7***\n",
      "dubba4***\n",
      "multicuspi***\n",
      "crownm***\n",
      "triformo***\n",
      "spania***\n",
      "magazin***\n",
      "presby***\n",
      "trophody***\n",
      "nontr***\n",
      "enranck***\n",
      "canc***\n",
      "uncanker***\n",
      "wrymo***\n",
      "non***\n",
      "luminat***\n",
      "oblig***\n",
      "anna***\n",
      "hyperth***\n",
      "toplabl***\n",
      "dolce0***\n",
      "rudals2***\n",
      "jjw980***\n",
      "elvlz***\n",
      "skmid***\n",
      "qkep***\n",
      "kisslov***\n",
      "maskman***\n",
      "sungt***\n"
     ]
    }
   ],
   "source": [
    "import re  #regex는 정규 표현식 모듈\n",
    "import urllib.request \n",
    "\n",
    "url = \"http://goo.gl/U7mSQl\"             # 접속할 페이지\n",
    "html = urllib.request.urlopen(url)       # 페이지 열기\n",
    "html_contents = str(html.read())         # 페이지의 내용을 문자열로 가져옴\n",
    "id_results = re.findall(r\"([A-Za-z0-9]+\\*\\*\\*)\", html_contents)  # findall 전체 찾기, 정규 표현식 패턴 대로 데이터 찾기\n",
    "\n",
    "for result in id_results:                 # 찾은 정보를 화면에 출력\n",
    "    print (result)\n"
   ]
  },
  {
   "cell_type": "code",
   "execution_count": 9,
   "id": "ec14f048",
   "metadata": {},
   "outputs": [
    {
     "name": "stdout",
     "output_type": "stream",
     "text": [
      "2024년 01월 17일 16시 11분 기준 장마감\n",
      "종목명 삼성전자\n",
      "종목코드 005930 코스피\n",
      "현재가 71,000 전일대비 하락 1,600 마이너스 2.20 퍼센트\n",
      "전일가 72,600\n",
      "시가 73,100\n",
      "고가 73,300\n",
      "상한가 94,300\n",
      "저가 71,000\n",
      "하한가 50,900\n",
      "거래량 22,053,869\n",
      "거래대금 1,582,253백만\n"
     ]
    }
   ],
   "source": [
    "import urllib.request\n",
    "import re\n",
    "\n",
    "url =\"http://finance.naver.com/item/main.nhn?code=005930\"\n",
    "html = urllib.request.urlopen(url)\n",
    "html_contents =str(html.read().decode(\"ms949\"))\n",
    "\n",
    "# 첫 번째 HTML 패턴\n",
    "stock_results = re.findall(\"(\\<dl class=\\\"blind\\\"\\>)([\\s\\S]+?)(\\<\\/dl\\>)\", html_contents)\n",
    "samsung_stock = stock_results[0]     # 두 개의 튜플 값 중 첫 번째 패턴\n",
    "samsung_index = samsung_stock[1]     # 세 개의 튜플 값 중 두 번째 패턴\n",
    "\n",
    "# 주식 정보만 추출함\n",
    "index_list= re.findall(\"(\\<dd\\>)([\\s\\S]+?)(\\<\\/dd\\>)\", samsung_index)\n",
    "\n",
    "for index in index_list:\n",
    "    print(index[1])                # 세 개의 튜플 값 중 두 번째 값\n"
   ]
  },
  {
   "cell_type": "code",
   "execution_count": 13,
   "id": "ee50dd31",
   "metadata": {},
   "outputs": [
    {
     "name": "stdout",
     "output_type": "stream",
     "text": [
      "Hollys store scraping >>>>>>>>>>>>>>>>>>>>>>>>>>\n",
      "https://www.hollys.co.kr/store/korea/korStore.do?pageNo=1&sido=&gugun=&store=\n",
      "https://www.hollys.co.kr/store/korea/korStore.do?pageNo=2&sido=&gugun=&store=\n",
      "https://www.hollys.co.kr/store/korea/korStore.do?pageNo=3&sido=&gugun=&store=\n",
      "https://www.hollys.co.kr/store/korea/korStore.do?pageNo=4&sido=&gugun=&store=\n",
      "https://www.hollys.co.kr/store/korea/korStore.do?pageNo=5&sido=&gugun=&store=\n",
      "https://www.hollys.co.kr/store/korea/korStore.do?pageNo=6&sido=&gugun=&store=\n",
      "https://www.hollys.co.kr/store/korea/korStore.do?pageNo=7&sido=&gugun=&store=\n",
      "https://www.hollys.co.kr/store/korea/korStore.do?pageNo=8&sido=&gugun=&store=\n",
      "https://www.hollys.co.kr/store/korea/korStore.do?pageNo=9&sido=&gugun=&store=\n",
      "https://www.hollys.co.kr/store/korea/korStore.do?pageNo=10&sido=&gugun=&store=\n"
     ]
    }
   ],
   "source": [
    "from bs4 import BeautifulSoup\n",
    "import urllib.request\n",
    "import pandas as pd\n",
    "import datetime\n",
    "\n",
    "#[CODE 1]\n",
    "def hollys_store(result):\n",
    "    for page in range(1,11):\n",
    "        Hollys_url = 'https://www.hollys.co.kr/store/korea/korStore.do?pageNo=%d&sido=&gugun=&store=' %page\n",
    "        print(Hollys_url)\n",
    "        html = urllib.request.urlopen(Hollys_url)\n",
    "        soupHollys = BeautifulSoup(html, 'html.parser')\n",
    "        tag_tbody = soupHollys.find('tbody')\n",
    "        for store in tag_tbody.find_all('tr'):\n",
    "            if len(store) <= 3:\n",
    "                break\n",
    "            store_td = store.find_all('td')\n",
    "            store_name = store_td[1].string\n",
    "            store_sido = store_td[0].string\n",
    "            store_address = store_td[3].string\n",
    "            store_phone = store_td[5].string\n",
    "            result.append([store_name]+[store_sido]+[store_address]\n",
    "                          +[store_phone])\n",
    "    return\n",
    "\n",
    "#[CODE 0]\n",
    "def main():\n",
    "    result = []\n",
    "    print('Hollys store scraping >>>>>>>>>>>>>>>>>>>>>>>>>>')\n",
    "    hollys_store(result)   #[CODE 1] 호출 \n",
    "    hollys_tbl = pd.DataFrame(result, columns=('store', 'sido-gu', 'address','phone'))\n",
    "    hollys_tbl.to_csv('./hollys.csv', encoding='UTF-8', mode='w', index=True)\n",
    "    del result[:]\n",
    "       \n",
    "if __name__ == '__main__':\n",
    "     main()\n"
   ]
  }
 ],
 "metadata": {
  "kernelspec": {
   "display_name": "Python 3 (ipykernel)",
   "language": "python",
   "name": "python3"
  },
  "language_info": {
   "codemirror_mode": {
    "name": "ipython",
    "version": 3
   },
   "file_extension": ".py",
   "mimetype": "text/x-python",
   "name": "python",
   "nbconvert_exporter": "python",
   "pygments_lexer": "ipython3",
   "version": "3.9.7"
  }
 },
 "nbformat": 4,
 "nbformat_minor": 5
}
